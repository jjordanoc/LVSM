{
 "cells": [
  {
   "cell_type": "markdown",
   "metadata": {},
   "source": [
    "## Modal setup"
   ]
  },
  {
   "cell_type": "code",
   "execution_count": 1,
   "metadata": {},
   "outputs": [
    {
     "name": "stdout",
     "output_type": "stream",
     "text": [
      "/__modal/volumes/vo-7oTzjGNuQtCVNAJIBvckAg\n",
      "total 1\n",
      "drwxr-xr-x 1 root root  0 Jan  1  1970 \u001b[0m\u001b[01;34m.\u001b[0m/\n",
      "drwxr-xr-x 3 root root 47 Jun  5 01:40 \u001b[01;34m..\u001b[0m/\n"
     ]
    },
    {
     "name": "stderr",
     "output_type": "stream",
     "text": [
      "/usr/local/lib/python3.10/site-packages/IPython/core/magics/osm.py:417: UserWarning: This is now an optional IPython functionality, setting dhist requires you to install the `pickleshare` library.\n",
      "  self.shell.db['dhist'] = compress_dhist(dhist)[-100:]\n"
     ]
    }
   ],
   "source": [
    "%cd /root/jupyter\n",
    "%ls -la"
   ]
  },
  {
   "cell_type": "code",
   "execution_count": null,
   "metadata": {},
   "outputs": [
    {
     "name": "stdout",
     "output_type": "stream",
     "text": [
      "Installed kernelspec myenv in /root/.local/share/jupyter/kernels/myenv\n"
     ]
    }
   ],
   "source": [
    "# !python -m ipykernel install --user --name myenv --display-name \"Python (myenv)\""
   ]
  },
  {
   "cell_type": "markdown",
   "metadata": {
    "id": "wiE7Qr9jjUWf"
   },
   "source": [
    "## LVSM setup"
   ]
  },
  {
   "cell_type": "code",
   "execution_count": 2,
   "metadata": {},
   "outputs": [
    {
     "name": "stdout",
     "output_type": "stream",
     "text": [
      "Cloning into 'LVSM'...\n",
      "remote: Enumerating objects: 81, done.\u001b[K\n",
      "remote: Counting objects: 100% (30/30), done.\u001b[K\n",
      "remote: Compressing objects: 100% (12/12), done.\u001b[K\n",
      "remote: Total 81 (delta 21), reused 18 (delta 18), pack-reused 51 (from 1)\u001b[K\n",
      "Receiving objects: 100% (81/81), 209.80 KiB | 3.68 MiB/s, done.\n",
      "Resolving deltas: 100% (38/38), done.\n"
     ]
    }
   ],
   "source": [
    "!git clone https://github.com/Haian-Jin/LVSM.git"
   ]
  },
  {
   "cell_type": "code",
   "execution_count": 3,
   "metadata": {},
   "outputs": [
    {
     "name": "stdout",
     "output_type": "stream",
     "text": [
      "/__modal/volumes/vo-7oTzjGNuQtCVNAJIBvckAg/LVSM\n",
      "LICENSE.md  \u001b[0m\u001b[01;34mdata\u001b[0m/             \u001b[01;34mmodel\u001b[0m/              requirements.txt  \u001b[01;34mutils\u001b[0m/\n",
      "README.md   generate_html.py  process_data.py     setup.py\n",
      "\u001b[01;34mconfigs\u001b[0m/    inference.py      pyrightconfig.json  train.py\n"
     ]
    }
   ],
   "source": [
    "%cd LVSM\n",
    "%ls"
   ]
  },
  {
   "cell_type": "code",
   "execution_count": 4,
   "metadata": {
    "colab": {
     "base_uri": "https://localhost:8080/",
     "height": 0
    },
    "executionInfo": {
     "elapsed": 227442,
     "status": "ok",
     "timestamp": 1749050950971,
     "user": {
      "displayName": "Joaquin Francisco Jordan",
      "userId": "02531572375631166842"
     },
     "user_tz": 300
    },
    "id": "9Bn6Ez71NYIL",
    "outputId": "1e2bc74c-99f3-468e-cce2-fa925a748d8f"
   },
   "outputs": [
    {
     "name": "stdout",
     "output_type": "stream",
     "text": [
      "Looking in indexes: https://pypi.org/simple, https://download.pytorch.org/whl/cu118\n",
      "Collecting torch==2.4.1 (from -r requirements.txt (line 2))\n",
      "  Downloading https://download.pytorch.org/whl/cu118/torch-2.4.1%2Bcu118-cp310-cp310-linux_x86_64.whl (857.6 MB)\n",
      "\u001b[2K     \u001b[90m━━━━━━━━━━━━━━━━━━━━━━━━━━━━━━━━━━━━━\u001b[0m \u001b[32m857.6/857.6 MB\u001b[0m \u001b[31m114.9 MB/s\u001b[0m eta \u001b[36m0:00:00\u001b[0m00:01\u001b[0m00:01\u001b[0m\n",
      "\u001b[?25hCollecting torchvision==0.19.1+cu118 (from -r requirements.txt (line 3))\n",
      "  Downloading https://download.pytorch.org/whl/cu118/torchvision-0.19.1%2Bcu118-cp310-cp310-linux_x86_64.whl (6.3 MB)\n",
      "\u001b[2K     \u001b[90m━━━━━━━━━━━━━━━━━━━━━━━━━━━━━━━━━━━━━━━━\u001b[0m \u001b[32m6.3/6.3 MB\u001b[0m \u001b[31m78.1 MB/s\u001b[0m eta \u001b[36m0:00:00\u001b[0m\n",
      "\u001b[?25hCollecting xformers==0.0.28 (from -r requirements.txt (line 4))\n",
      "  Downloading https://download.pytorch.org/whl/cu118/xformers-0.0.28-cp310-cp310-manylinux_2_28_x86_64.whl (16.0 MB)\n",
      "\u001b[2K     \u001b[90m━━━━━━━━━━━━━━━━━━━━━━━━━━━━━━━━━━━━━━━\u001b[0m \u001b[32m16.0/16.0 MB\u001b[0m \u001b[31m109.8 MB/s\u001b[0m eta \u001b[36m0:00:00\u001b[0m\n",
      "\u001b[?25hCollecting imageio==2.33.0 (from -r requirements.txt (line 5))\n",
      "  Downloading imageio-2.33.0-py3-none-any.whl.metadata (4.9 kB)\n",
      "Collecting Pillow==10.0.1 (from -r requirements.txt (line 6))\n",
      "  Downloading Pillow-10.0.1-cp310-cp310-manylinux_2_28_x86_64.whl.metadata (9.5 kB)\n",
      "Collecting imageio-ffmpeg==0.5.0 (from -r requirements.txt (line 7))\n",
      "  Downloading imageio_ffmpeg-0.5.0-py3-none-manylinux2010_x86_64.whl.metadata (1.6 kB)\n",
      "Collecting omegaconf==2.1.1 (from -r requirements.txt (line 8))\n",
      "  Downloading omegaconf-2.1.1-py3-none-any.whl.metadata (3.6 kB)\n",
      "Collecting einops>=0.4.1 (from -r requirements.txt (line 9))\n",
      "  Downloading einops-0.8.1-py3-none-any.whl.metadata (13 kB)\n",
      "Collecting transformers==4.30.2 (from -r requirements.txt (line 10))\n",
      "  Downloading transformers-4.30.2-py3-none-any.whl.metadata (113 kB)\n",
      "Collecting torchmetrics>=0.11.0 (from -r requirements.txt (line 11))\n",
      "  Downloading torchmetrics-1.7.2-py3-none-any.whl.metadata (21 kB)\n",
      "Collecting datasets==2.14.5 (from -r requirements.txt (line 12))\n",
      "  Downloading datasets-2.14.5-py3-none-any.whl.metadata (19 kB)\n",
      "Collecting rich>=13.3.2 (from -r requirements.txt (line 13))\n",
      "  Downloading rich-14.0.0-py3-none-any.whl.metadata (18 kB)\n",
      "Collecting wandb==0.18.7 (from -r requirements.txt (line 14))\n",
      "  Downloading wandb-0.18.7-py3-none-manylinux_2_17_x86_64.manylinux2014_x86_64.whl.metadata (9.7 kB)\n",
      "Collecting opencv-python==4.7.0.72 (from -r requirements.txt (line 15))\n",
      "  Downloading opencv_python-4.7.0.72-cp37-abi3-manylinux_2_17_x86_64.manylinux2014_x86_64.whl.metadata (18 kB)\n",
      "Collecting opencv-python-headless==4.7.0.72 (from -r requirements.txt (line 16))\n",
      "  Downloading opencv_python_headless-4.7.0.72-cp37-abi3-manylinux_2_17_x86_64.manylinux2014_x86_64.whl.metadata (18 kB)\n",
      "Collecting ipdb (from -r requirements.txt (line 17))\n",
      "  Downloading ipdb-0.13.13-py3-none-any.whl.metadata (14 kB)\n",
      "Collecting tqdm (from -r requirements.txt (line 18))\n",
      "  Downloading tqdm-4.67.1-py3-none-any.whl.metadata (57 kB)\n",
      "Collecting easydict==1.13 (from -r requirements.txt (line 19))\n",
      "  Downloading easydict-1.13-py3-none-any.whl.metadata (4.2 kB)\n",
      "Collecting lpips==0.1.4 (from -r requirements.txt (line 20))\n",
      "  Downloading lpips-0.1.4-py3-none-any.whl.metadata (10 kB)\n",
      "Collecting jaxtyping==0.3.1 (from -r requirements.txt (line 21))\n",
      "  Downloading jaxtyping-0.3.1-py3-none-any.whl.metadata (7.0 kB)\n",
      "Collecting scikit-image==0.23.2 (from -r requirements.txt (line 22))\n",
      "  Downloading scikit_image-0.23.2-cp310-cp310-manylinux_2_17_x86_64.manylinux2014_x86_64.whl.metadata (14 kB)\n",
      "Collecting numpy==1.26.4 (from -r requirements.txt (line 23))\n",
      "  Downloading numpy-1.26.4-cp310-cp310-manylinux_2_17_x86_64.manylinux2014_x86_64.whl.metadata (61 kB)\n",
      "Collecting filelock (from torch==2.4.1->-r requirements.txt (line 2))\n",
      "  Downloading filelock-3.18.0-py3-none-any.whl.metadata (2.9 kB)\n",
      "Requirement already satisfied: typing-extensions>=4.8.0 in /usr/local/lib/python3.10/site-packages (from torch==2.4.1->-r requirements.txt (line 2)) (4.12.2)\n",
      "Collecting sympy (from torch==2.4.1->-r requirements.txt (line 2))\n",
      "  Downloading sympy-1.14.0-py3-none-any.whl.metadata (12 kB)\n",
      "Collecting networkx (from torch==2.4.1->-r requirements.txt (line 2))\n",
      "  Downloading networkx-3.4.2-py3-none-any.whl.metadata (6.3 kB)\n",
      "Requirement already satisfied: jinja2 in /usr/local/lib/python3.10/site-packages (from torch==2.4.1->-r requirements.txt (line 2)) (3.1.6)\n",
      "Collecting fsspec (from torch==2.4.1->-r requirements.txt (line 2))\n",
      "  Downloading fsspec-2025.5.1-py3-none-any.whl.metadata (11 kB)\n",
      "Collecting nvidia-cuda-nvrtc-cu11==11.8.89 (from torch==2.4.1->-r requirements.txt (line 2))\n",
      "  Downloading nvidia_cuda_nvrtc_cu11-11.8.89-py3-none-manylinux2014_x86_64.whl.metadata (1.5 kB)\n",
      "Collecting nvidia-cuda-runtime-cu11==11.8.89 (from torch==2.4.1->-r requirements.txt (line 2))\n",
      "  Downloading nvidia_cuda_runtime_cu11-11.8.89-py3-none-manylinux2014_x86_64.whl.metadata (1.5 kB)\n",
      "Collecting nvidia-cuda-cupti-cu11==11.8.87 (from torch==2.4.1->-r requirements.txt (line 2))\n",
      "  Downloading nvidia_cuda_cupti_cu11-11.8.87-py3-none-manylinux2014_x86_64.whl.metadata (1.6 kB)\n",
      "Collecting nvidia-cudnn-cu11==9.1.0.70 (from torch==2.4.1->-r requirements.txt (line 2))\n",
      "  Downloading https://download.pytorch.org/whl/cu118/nvidia_cudnn_cu11-9.1.0.70-py3-none-manylinux2014_x86_64.whl (663.9 MB)\n",
      "\u001b[2K     \u001b[90m━━━━━━━━━━━━━━━━━━━━━━━━━━━━━━━━━━━━━\u001b[0m \u001b[32m663.9/663.9 MB\u001b[0m \u001b[31m109.6 MB/s\u001b[0m eta \u001b[36m0:00:00\u001b[0m00:01\u001b[0m00:01\u001b[0m\n",
      "\u001b[?25hCollecting nvidia-cublas-cu11==11.11.3.6 (from torch==2.4.1->-r requirements.txt (line 2))\n",
      "  Downloading nvidia_cublas_cu11-11.11.3.6-py3-none-manylinux2014_x86_64.whl.metadata (1.5 kB)\n",
      "Collecting nvidia-cufft-cu11==10.9.0.58 (from torch==2.4.1->-r requirements.txt (line 2))\n",
      "  Downloading nvidia_cufft_cu11-10.9.0.58-py3-none-manylinux2014_x86_64.whl.metadata (1.5 kB)\n",
      "Collecting nvidia-curand-cu11==10.3.0.86 (from torch==2.4.1->-r requirements.txt (line 2))\n",
      "  Downloading nvidia_curand_cu11-10.3.0.86-py3-none-manylinux2014_x86_64.whl.metadata (1.5 kB)\n",
      "Collecting nvidia-cusolver-cu11==11.4.1.48 (from torch==2.4.1->-r requirements.txt (line 2))\n",
      "  Downloading nvidia_cusolver_cu11-11.4.1.48-py3-none-manylinux2014_x86_64.whl.metadata (1.6 kB)\n",
      "Collecting nvidia-cusparse-cu11==11.7.5.86 (from torch==2.4.1->-r requirements.txt (line 2))\n",
      "  Downloading nvidia_cusparse_cu11-11.7.5.86-py3-none-manylinux2014_x86_64.whl.metadata (1.5 kB)\n",
      "Collecting nvidia-nccl-cu11==2.20.5 (from torch==2.4.1->-r requirements.txt (line 2))\n",
      "  Downloading https://download.pytorch.org/whl/cu118/nvidia_nccl_cu11-2.20.5-py3-none-manylinux2014_x86_64.whl (142.9 MB)\n",
      "\u001b[2K     \u001b[90m━━━━━━━━━━━━━━━━━━━━━━━━━━━━━━━━━━━━━\u001b[0m \u001b[32m142.9/142.9 MB\u001b[0m \u001b[31m114.3 MB/s\u001b[0m eta \u001b[36m0:00:00\u001b[0ma \u001b[36m0:00:01\u001b[0m\n",
      "\u001b[?25hCollecting nvidia-nvtx-cu11==11.8.86 (from torch==2.4.1->-r requirements.txt (line 2))\n",
      "  Downloading nvidia_nvtx_cu11-11.8.86-py3-none-manylinux2014_x86_64.whl.metadata (1.7 kB)\n",
      "Collecting triton==3.0.0 (from torch==2.4.1->-r requirements.txt (line 2))\n",
      "  Downloading https://download.pytorch.org/whl/triton-3.0.0-1-cp310-cp310-manylinux2014_x86_64.manylinux_2_17_x86_64.whl (209.4 MB)\n",
      "\u001b[2K     \u001b[90m━━━━━━━━━━━━━━━━━━━━━━━━━━━━━━━━━━━━━\u001b[0m \u001b[32m209.4/209.4 MB\u001b[0m \u001b[31m117.2 MB/s\u001b[0m eta \u001b[36m0:00:00\u001b[0ma \u001b[36m0:00:01\u001b[0m\n",
      "\u001b[?25hRequirement already satisfied: setuptools in /usr/local/lib/python3.10/site-packages (from imageio-ffmpeg==0.5.0->-r requirements.txt (line 7)) (65.5.1)\n",
      "Collecting antlr4-python3-runtime==4.8 (from omegaconf==2.1.1->-r requirements.txt (line 8))\n",
      "  Downloading antlr4-python3-runtime-4.8.tar.gz (112 kB)\n",
      "  Preparing metadata (setup.py) ... \u001b[?25ldone\n",
      "\u001b[?25hRequirement already satisfied: PyYAML>=5.1.0 in /usr/local/lib/python3.10/site-packages (from omegaconf==2.1.1->-r requirements.txt (line 8)) (6.0.2)\n",
      "Collecting huggingface-hub<1.0,>=0.14.1 (from transformers==4.30.2->-r requirements.txt (line 10))\n",
      "  Downloading huggingface_hub-0.32.4-py3-none-any.whl.metadata (14 kB)\n",
      "Requirement already satisfied: packaging>=20.0 in /usr/local/lib/python3.10/site-packages (from transformers==4.30.2->-r requirements.txt (line 10)) (25.0)\n",
      "Collecting regex!=2019.12.17 (from transformers==4.30.2->-r requirements.txt (line 10))\n",
      "  Downloading regex-2024.11.6-cp310-cp310-manylinux_2_17_x86_64.manylinux2014_x86_64.whl.metadata (40 kB)\n",
      "Requirement already satisfied: requests in /usr/local/lib/python3.10/site-packages (from transformers==4.30.2->-r requirements.txt (line 10)) (2.32.3)\n",
      "Collecting tokenizers!=0.11.3,<0.14,>=0.11.1 (from transformers==4.30.2->-r requirements.txt (line 10))\n",
      "  Downloading tokenizers-0.13.3-cp310-cp310-manylinux_2_17_x86_64.manylinux2014_x86_64.whl.metadata (6.7 kB)\n",
      "Collecting safetensors>=0.3.1 (from transformers==4.30.2->-r requirements.txt (line 10))\n",
      "  Downloading safetensors-0.5.3-cp38-abi3-manylinux_2_17_x86_64.manylinux2014_x86_64.whl.metadata (3.8 kB)\n",
      "Collecting pyarrow>=8.0.0 (from datasets==2.14.5->-r requirements.txt (line 12))\n",
      "  Downloading pyarrow-20.0.0-cp310-cp310-manylinux_2_28_x86_64.whl.metadata (3.3 kB)\n",
      "Collecting dill<0.3.8,>=0.3.0 (from datasets==2.14.5->-r requirements.txt (line 12))\n",
      "  Downloading dill-0.3.7-py3-none-any.whl.metadata (9.9 kB)\n",
      "Collecting pandas (from datasets==2.14.5->-r requirements.txt (line 12))\n",
      "  Downloading pandas-2.2.3-cp310-cp310-manylinux_2_17_x86_64.manylinux2014_x86_64.whl.metadata (89 kB)\n",
      "Collecting xxhash (from datasets==2.14.5->-r requirements.txt (line 12))\n",
      "  Downloading xxhash-3.5.0-cp310-cp310-manylinux_2_17_x86_64.manylinux2014_x86_64.whl.metadata (12 kB)\n",
      "Collecting multiprocess (from datasets==2.14.5->-r requirements.txt (line 12))\n",
      "  Downloading multiprocess-0.70.18-py310-none-any.whl.metadata (7.5 kB)\n",
      "Collecting fsspec (from torch==2.4.1->-r requirements.txt (line 2))\n",
      "  Downloading fsspec-2023.6.0-py3-none-any.whl.metadata (6.7 kB)\n",
      "Requirement already satisfied: aiohttp in /usr/local/lib/python3.10/site-packages (from datasets==2.14.5->-r requirements.txt (line 12)) (3.10.8)\n",
      "Collecting click!=8.0.0,>=7.1 (from wandb==0.18.7->-r requirements.txt (line 14))\n",
      "  Downloading click-8.2.1-py3-none-any.whl.metadata (2.5 kB)\n",
      "Collecting docker-pycreds>=0.4.0 (from wandb==0.18.7->-r requirements.txt (line 14))\n",
      "  Downloading docker_pycreds-0.4.0-py2.py3-none-any.whl.metadata (1.8 kB)\n",
      "Collecting gitpython!=3.1.29,>=1.0.0 (from wandb==0.18.7->-r requirements.txt (line 14))\n",
      "  Downloading GitPython-3.1.44-py3-none-any.whl.metadata (13 kB)\n",
      "Requirement already satisfied: platformdirs in /usr/local/lib/python3.10/site-packages (from wandb==0.18.7->-r requirements.txt (line 14)) (4.3.8)\n",
      "Requirement already satisfied: protobuf!=4.21.0,!=5.28.0,<6,>=3.19.0 in /usr/local/lib/python3.10/site-packages (from wandb==0.18.7->-r requirements.txt (line 14)) (5.29.2)\n",
      "Requirement already satisfied: psutil>=5.0.0 in /usr/local/lib/python3.10/site-packages (from wandb==0.18.7->-r requirements.txt (line 14)) (7.0.0)\n",
      "Collecting sentry-sdk>=2.0.0 (from wandb==0.18.7->-r requirements.txt (line 14))\n",
      "  Downloading sentry_sdk-2.29.1-py2.py3-none-any.whl.metadata (10 kB)\n",
      "Collecting setproctitle (from wandb==0.18.7->-r requirements.txt (line 14))\n",
      "  Downloading setproctitle-1.3.6-cp310-cp310-manylinux_2_5_x86_64.manylinux1_x86_64.manylinux_2_17_x86_64.manylinux2014_x86_64.whl.metadata (10 kB)\n",
      "Collecting scipy>=1.0.1 (from lpips==0.1.4->-r requirements.txt (line 20))\n",
      "  Downloading scipy-1.15.3-cp310-cp310-manylinux_2_17_x86_64.manylinux2014_x86_64.whl.metadata (61 kB)\n",
      "Collecting wadler-lindig>=0.1.3 (from jaxtyping==0.3.1->-r requirements.txt (line 21))\n",
      "  Downloading wadler_lindig-0.1.6-py3-none-any.whl.metadata (17 kB)\n",
      "Collecting tifffile>=2022.8.12 (from scikit-image==0.23.2->-r requirements.txt (line 22))\n",
      "  Downloading tifffile-2025.5.10-py3-none-any.whl.metadata (31 kB)\n",
      "Collecting lazy-loader>=0.4 (from scikit-image==0.23.2->-r requirements.txt (line 22))\n",
      "  Downloading lazy_loader-0.4-py3-none-any.whl.metadata (7.6 kB)\n",
      "Collecting lightning-utilities>=0.8.0 (from torchmetrics>=0.11.0->-r requirements.txt (line 11))\n",
      "  Downloading lightning_utilities-0.14.3-py3-none-any.whl.metadata (5.6 kB)\n",
      "Collecting markdown-it-py>=2.2.0 (from rich>=13.3.2->-r requirements.txt (line 13))\n",
      "  Downloading markdown_it_py-3.0.0-py3-none-any.whl.metadata (6.9 kB)\n",
      "Requirement already satisfied: pygments<3.0.0,>=2.13.0 in /usr/local/lib/python3.10/site-packages (from rich>=13.3.2->-r requirements.txt (line 13)) (2.19.1)\n",
      "Requirement already satisfied: ipython>=7.31.1 in /usr/local/lib/python3.10/site-packages (from ipdb->-r requirements.txt (line 17)) (8.37.0)\n",
      "Requirement already satisfied: tomli in /usr/local/lib/python3.10/site-packages (from ipdb->-r requirements.txt (line 17)) (2.2.1)\n",
      "Requirement already satisfied: decorator in /usr/local/lib/python3.10/site-packages (from ipdb->-r requirements.txt (line 17)) (5.2.1)\n",
      "Requirement already satisfied: six>=1.4.0 in /usr/local/lib/python3.10/site-packages (from docker-pycreds>=0.4.0->wandb==0.18.7->-r requirements.txt (line 14)) (1.17.0)\n",
      "Requirement already satisfied: aiohappyeyeballs>=2.3.0 in /usr/local/lib/python3.10/site-packages (from aiohttp->datasets==2.14.5->-r requirements.txt (line 12)) (2.4.3)\n",
      "Requirement already satisfied: aiosignal>=1.1.2 in /usr/local/lib/python3.10/site-packages (from aiohttp->datasets==2.14.5->-r requirements.txt (line 12)) (1.3.1)\n",
      "Requirement already satisfied: attrs>=17.3.0 in /usr/local/lib/python3.10/site-packages (from aiohttp->datasets==2.14.5->-r requirements.txt (line 12)) (24.2.0)\n",
      "Requirement already satisfied: frozenlist>=1.1.1 in /usr/local/lib/python3.10/site-packages (from aiohttp->datasets==2.14.5->-r requirements.txt (line 12)) (1.4.1)\n",
      "Requirement already satisfied: multidict<7.0,>=4.5 in /usr/local/lib/python3.10/site-packages (from aiohttp->datasets==2.14.5->-r requirements.txt (line 12)) (6.1.0)\n",
      "Requirement already satisfied: yarl<2.0,>=1.12.0 in /usr/local/lib/python3.10/site-packages (from aiohttp->datasets==2.14.5->-r requirements.txt (line 12)) (1.13.1)\n",
      "Requirement already satisfied: async-timeout<5.0,>=4.0 in /usr/local/lib/python3.10/site-packages (from aiohttp->datasets==2.14.5->-r requirements.txt (line 12)) (4.0.3)\n",
      "Collecting gitdb<5,>=4.0.1 (from gitpython!=3.1.29,>=1.0.0->wandb==0.18.7->-r requirements.txt (line 14))\n",
      "  Downloading gitdb-4.0.12-py3-none-any.whl.metadata (1.2 kB)\n",
      "Collecting hf-xet<2.0.0,>=1.1.2 (from huggingface-hub<1.0,>=0.14.1->transformers==4.30.2->-r requirements.txt (line 10))\n",
      "  Downloading hf_xet-1.1.3-cp37-abi3-manylinux_2_17_x86_64.manylinux2014_x86_64.whl.metadata (879 bytes)\n",
      "Requirement already satisfied: exceptiongroup in /usr/local/lib/python3.10/site-packages (from ipython>=7.31.1->ipdb->-r requirements.txt (line 17)) (1.3.0)\n",
      "Requirement already satisfied: jedi>=0.16 in /usr/local/lib/python3.10/site-packages (from ipython>=7.31.1->ipdb->-r requirements.txt (line 17)) (0.19.2)\n",
      "Requirement already satisfied: matplotlib-inline in /usr/local/lib/python3.10/site-packages (from ipython>=7.31.1->ipdb->-r requirements.txt (line 17)) (0.1.7)\n",
      "Requirement already satisfied: pexpect>4.3 in /usr/local/lib/python3.10/site-packages (from ipython>=7.31.1->ipdb->-r requirements.txt (line 17)) (4.9.0)\n",
      "Requirement already satisfied: prompt_toolkit<3.1.0,>=3.0.41 in /usr/local/lib/python3.10/site-packages (from ipython>=7.31.1->ipdb->-r requirements.txt (line 17)) (3.0.51)\n",
      "Requirement already satisfied: stack_data in /usr/local/lib/python3.10/site-packages (from ipython>=7.31.1->ipdb->-r requirements.txt (line 17)) (0.6.3)\n",
      "Requirement already satisfied: traitlets>=5.13.0 in /usr/local/lib/python3.10/site-packages (from ipython>=7.31.1->ipdb->-r requirements.txt (line 17)) (5.14.3)\n",
      "Collecting mdurl~=0.1 (from markdown-it-py>=2.2.0->rich>=13.3.2->-r requirements.txt (line 13))\n",
      "  Downloading mdurl-0.1.2-py3-none-any.whl.metadata (1.6 kB)\n",
      "Requirement already satisfied: charset-normalizer<4,>=2 in /usr/local/lib/python3.10/site-packages (from requests->transformers==4.30.2->-r requirements.txt (line 10)) (3.4.2)\n",
      "Requirement already satisfied: idna<4,>=2.5 in /usr/local/lib/python3.10/site-packages (from requests->transformers==4.30.2->-r requirements.txt (line 10)) (3.10)\n",
      "Requirement already satisfied: urllib3<3,>=1.21.1 in /usr/local/lib/python3.10/site-packages (from requests->transformers==4.30.2->-r requirements.txt (line 10)) (2.4.0)\n",
      "Requirement already satisfied: certifi>=2017.4.17 in /usr/local/lib/python3.10/site-packages (from requests->transformers==4.30.2->-r requirements.txt (line 10)) (2024.8.30)\n",
      "Requirement already satisfied: MarkupSafe>=2.0 in /usr/local/lib/python3.10/site-packages (from jinja2->torch==2.4.1->-r requirements.txt (line 2)) (3.0.2)\n",
      "INFO: pip is looking at multiple versions of multiprocess to determine which version is compatible with other requirements. This could take a while.\n",
      "Collecting multiprocess (from datasets==2.14.5->-r requirements.txt (line 12))\n",
      "  Downloading multiprocess-0.70.17-py310-none-any.whl.metadata (7.2 kB)\n",
      "  Downloading multiprocess-0.70.16-py310-none-any.whl.metadata (7.2 kB)\n",
      "  Downloading multiprocess-0.70.15-py310-none-any.whl.metadata (7.2 kB)\n",
      "Requirement already satisfied: python-dateutil>=2.8.2 in /usr/local/lib/python3.10/site-packages (from pandas->datasets==2.14.5->-r requirements.txt (line 12)) (2.9.0.post0)\n",
      "Collecting pytz>=2020.1 (from pandas->datasets==2.14.5->-r requirements.txt (line 12))\n",
      "  Downloading pytz-2025.2-py2.py3-none-any.whl.metadata (22 kB)\n",
      "Collecting tzdata>=2022.7 (from pandas->datasets==2.14.5->-r requirements.txt (line 12))\n",
      "  Downloading tzdata-2025.2-py2.py3-none-any.whl.metadata (1.4 kB)\n",
      "Collecting mpmath<1.4,>=1.1.0 (from sympy->torch==2.4.1->-r requirements.txt (line 2))\n",
      "  Downloading https://download.pytorch.org/whl/mpmath-1.3.0-py3-none-any.whl (536 kB)\n",
      "\u001b[2K     \u001b[90m━━━━━━━━━━━━━━━━━━━━━━━━━━━━━━━━━━━━━\u001b[0m \u001b[32m536.2/536.2 kB\u001b[0m \u001b[31m134.2 MB/s\u001b[0m eta \u001b[36m0:00:00\u001b[0m\n",
      "\u001b[?25hCollecting smmap<6,>=3.0.1 (from gitdb<5,>=4.0.1->gitpython!=3.1.29,>=1.0.0->wandb==0.18.7->-r requirements.txt (line 14))\n",
      "  Downloading smmap-5.0.2-py3-none-any.whl.metadata (4.3 kB)\n",
      "Requirement already satisfied: parso<0.9.0,>=0.8.4 in /usr/local/lib/python3.10/site-packages (from jedi>=0.16->ipython>=7.31.1->ipdb->-r requirements.txt (line 17)) (0.8.4)\n",
      "Requirement already satisfied: ptyprocess>=0.5 in /usr/local/lib/python3.10/site-packages (from pexpect>4.3->ipython>=7.31.1->ipdb->-r requirements.txt (line 17)) (0.7.0)\n",
      "Requirement already satisfied: wcwidth in /usr/local/lib/python3.10/site-packages (from prompt_toolkit<3.1.0,>=3.0.41->ipython>=7.31.1->ipdb->-r requirements.txt (line 17)) (0.2.13)\n",
      "Requirement already satisfied: executing>=1.2.0 in /usr/local/lib/python3.10/site-packages (from stack_data->ipython>=7.31.1->ipdb->-r requirements.txt (line 17)) (2.2.0)\n",
      "Requirement already satisfied: asttokens>=2.1.0 in /usr/local/lib/python3.10/site-packages (from stack_data->ipython>=7.31.1->ipdb->-r requirements.txt (line 17)) (3.0.0)\n",
      "Requirement already satisfied: pure-eval in /usr/local/lib/python3.10/site-packages (from stack_data->ipython>=7.31.1->ipdb->-r requirements.txt (line 17)) (0.2.3)\n",
      "Downloading imageio-2.33.0-py3-none-any.whl (313 kB)\n",
      "Downloading Pillow-10.0.1-cp310-cp310-manylinux_2_28_x86_64.whl (3.6 MB)\n",
      "\u001b[2K   \u001b[90m━━━━━━━━━━━━━━━━━━━━━━━━━━━━━━━━━━━━━━━━\u001b[0m \u001b[32m3.6/3.6 MB\u001b[0m \u001b[31m72.2 MB/s\u001b[0m eta \u001b[36m0:00:00\u001b[0m\n",
      "\u001b[?25hDownloading imageio_ffmpeg-0.5.0-py3-none-manylinux2010_x86_64.whl (26.9 MB)\n",
      "\u001b[2K   \u001b[90m━━━━━━━━━━━━━━━━━━━━━━━━━━━━━━━━━━━━━━━━\u001b[0m \u001b[32m26.9/26.9 MB\u001b[0m \u001b[31m134.2 MB/s\u001b[0m eta \u001b[36m0:00:00\u001b[0m\n",
      "\u001b[?25hDownloading omegaconf-2.1.1-py3-none-any.whl (74 kB)\n",
      "Downloading transformers-4.30.2-py3-none-any.whl (7.2 MB)\n",
      "\u001b[2K   \u001b[90m━━━━━━━━━━━━━━━━━━━━━━━━━━━━━━━━━━━━━━━━\u001b[0m \u001b[32m7.2/7.2 MB\u001b[0m \u001b[31m137.0 MB/s\u001b[0m eta \u001b[36m0:00:00\u001b[0m\n",
      "\u001b[?25hDownloading datasets-2.14.5-py3-none-any.whl (519 kB)\n",
      "Downloading wandb-0.18.7-py3-none-manylinux_2_17_x86_64.manylinux2014_x86_64.whl (16.1 MB)\n",
      "\u001b[2K   \u001b[90m━━━━━━━━━━━━━━━━━━━━━━━━━━━━━━━━━━━━━━━━\u001b[0m \u001b[32m16.1/16.1 MB\u001b[0m \u001b[31m140.3 MB/s\u001b[0m eta \u001b[36m0:00:00\u001b[0m\n",
      "\u001b[?25hDownloading opencv_python-4.7.0.72-cp37-abi3-manylinux_2_17_x86_64.manylinux2014_x86_64.whl (61.8 MB)\n",
      "\u001b[2K   \u001b[90m━━━━━━━━━━━━━━━━━━━━━━━━━━━━━━━━━━━━━━━━\u001b[0m \u001b[32m61.8/61.8 MB\u001b[0m \u001b[31m113.0 MB/s\u001b[0m eta \u001b[36m0:00:00\u001b[0ma \u001b[36m0:00:01\u001b[0m\n",
      "\u001b[?25hDownloading opencv_python_headless-4.7.0.72-cp37-abi3-manylinux_2_17_x86_64.manylinux2014_x86_64.whl (49.2 MB)\n",
      "\u001b[2K   \u001b[90m━━━━━━━━━━━━━━━━━━━━━━━━━━━━━━━━━━━━━━━━\u001b[0m \u001b[32m49.2/49.2 MB\u001b[0m \u001b[31m118.7 MB/s\u001b[0m eta \u001b[36m0:00:00\u001b[0ma \u001b[36m0:00:01\u001b[0m\n",
      "\u001b[?25hDownloading easydict-1.13-py3-none-any.whl (6.8 kB)\n",
      "Downloading lpips-0.1.4-py3-none-any.whl (53 kB)\n",
      "Downloading jaxtyping-0.3.1-py3-none-any.whl (55 kB)\n",
      "Downloading scikit_image-0.23.2-cp310-cp310-manylinux_2_17_x86_64.manylinux2014_x86_64.whl (14.7 MB)\n",
      "\u001b[2K   \u001b[90m━━━━━━━━━━━━━━━━━━━━━━━━━━━━━━━━━━━━━━━━\u001b[0m \u001b[32m14.7/14.7 MB\u001b[0m \u001b[31m103.5 MB/s\u001b[0m eta \u001b[36m0:00:00\u001b[0m\n",
      "\u001b[?25hDownloading numpy-1.26.4-cp310-cp310-manylinux_2_17_x86_64.manylinux2014_x86_64.whl (18.2 MB)\n",
      "\u001b[2K   \u001b[90m━━━━━━━━━━━━━━━━━━━━━━━━━━━━━━━━━━━━━━━━\u001b[0m \u001b[32m18.2/18.2 MB\u001b[0m \u001b[31m124.1 MB/s\u001b[0m eta \u001b[36m0:00:00\u001b[0m\n",
      "\u001b[?25hDownloading nvidia_cublas_cu11-11.11.3.6-py3-none-manylinux2014_x86_64.whl (417.9 MB)\n",
      "\u001b[2K   \u001b[90m━━━━━━━━━━━━━━━━━━━━━━━━━━━━━━━━━━━━━━━\u001b[0m \u001b[32m417.9/417.9 MB\u001b[0m \u001b[31m101.7 MB/s\u001b[0m eta \u001b[36m0:00:00\u001b[0ma \u001b[36m0:00:01\u001b[0m\n",
      "\u001b[?25hDownloading nvidia_cuda_cupti_cu11-11.8.87-py3-none-manylinux2014_x86_64.whl (13.1 MB)\n",
      "\u001b[2K   \u001b[90m━━━━━━━━━━━━━━━━━━━━━━━━━━━━━━━━━━━━━━━━\u001b[0m \u001b[32m13.1/13.1 MB\u001b[0m \u001b[31m116.7 MB/s\u001b[0m eta \u001b[36m0:00:00\u001b[0m\n",
      "\u001b[?25hDownloading nvidia_cuda_nvrtc_cu11-11.8.89-py3-none-manylinux2014_x86_64.whl (23.2 MB)\n",
      "\u001b[2K   \u001b[90m━━━━━━━━━━━━━━━━━━━━━━━━━━━━━━━━━━━━━━━━\u001b[0m \u001b[32m23.2/23.2 MB\u001b[0m \u001b[31m119.8 MB/s\u001b[0m eta \u001b[36m0:00:00\u001b[0m\n",
      "\u001b[?25hDownloading nvidia_cuda_runtime_cu11-11.8.89-py3-none-manylinux2014_x86_64.whl (875 kB)\n",
      "\u001b[2K   \u001b[90m━━━━━━━━━━━━━━━━━━━━━━━━━━━━━━━━━━━━━━━\u001b[0m \u001b[32m875.6/875.6 kB\u001b[0m \u001b[31m152.2 MB/s\u001b[0m eta \u001b[36m0:00:00\u001b[0m\n",
      "\u001b[?25hDownloading nvidia_cufft_cu11-10.9.0.58-py3-none-manylinux2014_x86_64.whl (168.4 MB)\n",
      "\u001b[2K   \u001b[90m━━━━━━━━━━━━━━━━━━━━━━━━━━━━━━━━━━━━━━━\u001b[0m \u001b[32m168.4/168.4 MB\u001b[0m \u001b[31m132.4 MB/s\u001b[0m eta \u001b[36m0:00:00\u001b[0ma \u001b[36m0:00:01\u001b[0m\n",
      "\u001b[?25hDownloading nvidia_curand_cu11-10.3.0.86-py3-none-manylinux2014_x86_64.whl (58.1 MB)\n",
      "\u001b[2K   \u001b[90m━━━━━━━━━━━━━━━━━━━━━━━━━━━━━━━━━━━━━━━━\u001b[0m \u001b[32m58.1/58.1 MB\u001b[0m \u001b[31m132.4 MB/s\u001b[0m eta \u001b[36m0:00:00\u001b[0ma \u001b[36m0:00:01\u001b[0m\n",
      "\u001b[?25hDownloading nvidia_cusolver_cu11-11.4.1.48-py3-none-manylinux2014_x86_64.whl (128.2 MB)\n",
      "\u001b[2K   \u001b[90m━━━━━━━━━━━━━━━━━━━━━━━━━━━━━━━━━━━━━━━━\u001b[0m \u001b[32m128.2/128.2 MB\u001b[0m \u001b[31m99.6 MB/s\u001b[0m eta \u001b[36m0:00:00\u001b[0ma \u001b[36m0:00:01\u001b[0m\n",
      "\u001b[?25hDownloading nvidia_cusparse_cu11-11.7.5.86-py3-none-manylinux2014_x86_64.whl (204.1 MB)\n",
      "\u001b[2K   \u001b[90m━━━━━━━━━━━━━━━━━━━━━━━━━━━━━━━━━━━━━━━\u001b[0m \u001b[32m204.1/204.1 MB\u001b[0m \u001b[31m122.3 MB/s\u001b[0m eta \u001b[36m0:00:00\u001b[0ma \u001b[36m0:00:01\u001b[0m\n",
      "\u001b[?25hDownloading nvidia_nvtx_cu11-11.8.86-py3-none-manylinux2014_x86_64.whl (99 kB)\n",
      "Downloading einops-0.8.1-py3-none-any.whl (64 kB)\n",
      "Downloading torchmetrics-1.7.2-py3-none-any.whl (962 kB)\n",
      "\u001b[2K   \u001b[90m━━━━━━━━━━━━━━━━━━━━━━━━━━━━━━━━━━━━━━━\u001b[0m \u001b[32m962.5/962.5 kB\u001b[0m \u001b[31m181.2 MB/s\u001b[0m eta \u001b[36m0:00:00\u001b[0m\n",
      "\u001b[?25hDownloading rich-14.0.0-py3-none-any.whl (243 kB)\n",
      "Downloading ipdb-0.13.13-py3-none-any.whl (12 kB)\n",
      "Downloading tqdm-4.67.1-py3-none-any.whl (78 kB)\n",
      "Downloading click-8.2.1-py3-none-any.whl (102 kB)\n",
      "Downloading dill-0.3.7-py3-none-any.whl (115 kB)\n",
      "Downloading docker_pycreds-0.4.0-py2.py3-none-any.whl (9.0 kB)\n",
      "Downloading fsspec-2023.6.0-py3-none-any.whl (163 kB)\n",
      "Downloading GitPython-3.1.44-py3-none-any.whl (207 kB)\n",
      "Downloading huggingface_hub-0.32.4-py3-none-any.whl (512 kB)\n",
      "Downloading lazy_loader-0.4-py3-none-any.whl (12 kB)\n",
      "Downloading lightning_utilities-0.14.3-py3-none-any.whl (28 kB)\n",
      "Downloading markdown_it_py-3.0.0-py3-none-any.whl (87 kB)\n",
      "Downloading networkx-3.4.2-py3-none-any.whl (1.7 MB)\n",
      "\u001b[2K   \u001b[90m━━━━━━━━━━━━━━━━━━━━━━━━━━━━━━━━━━━━━━━━\u001b[0m \u001b[32m1.7/1.7 MB\u001b[0m \u001b[31m133.8 MB/s\u001b[0m eta \u001b[36m0:00:00\u001b[0m\n",
      "\u001b[?25hDownloading pyarrow-20.0.0-cp310-cp310-manylinux_2_28_x86_64.whl (42.3 MB)\n",
      "\u001b[2K   \u001b[90m━━━━━━━━━━━━━━━━━━━━━━━━━━━━━━━━━━━━━━━━\u001b[0m \u001b[32m42.3/42.3 MB\u001b[0m \u001b[31m118.6 MB/s\u001b[0m eta \u001b[36m0:00:00\u001b[0ma \u001b[36m0:00:01\u001b[0m\n",
      "\u001b[?25hDownloading regex-2024.11.6-cp310-cp310-manylinux_2_17_x86_64.manylinux2014_x86_64.whl (781 kB)\n",
      "\u001b[2K   \u001b[90m━━━━━━━━━━━━━━━━━━━━━━━━━━━━━━━━━━━━━━━\u001b[0m \u001b[32m781.7/781.7 kB\u001b[0m \u001b[31m159.9 MB/s\u001b[0m eta \u001b[36m0:00:00\u001b[0m\n",
      "\u001b[?25hDownloading safetensors-0.5.3-cp38-abi3-manylinux_2_17_x86_64.manylinux2014_x86_64.whl (471 kB)\n",
      "Downloading scipy-1.15.3-cp310-cp310-manylinux_2_17_x86_64.manylinux2014_x86_64.whl (37.7 MB)\n",
      "\u001b[2K   \u001b[90m━━━━━━━━━━━━━━━━━━━━━━━━━━━━━━━━━━━━━━━━\u001b[0m \u001b[32m37.7/37.7 MB\u001b[0m \u001b[31m111.5 MB/s\u001b[0m eta \u001b[36m0:00:00\u001b[0ma \u001b[36m0:00:01\u001b[0m\n",
      "\u001b[?25hDownloading sentry_sdk-2.29.1-py2.py3-none-any.whl (341 kB)\n",
      "Downloading tifffile-2025.5.10-py3-none-any.whl (226 kB)\n",
      "Downloading tokenizers-0.13.3-cp310-cp310-manylinux_2_17_x86_64.manylinux2014_x86_64.whl (7.8 MB)\n",
      "\u001b[2K   \u001b[90m━━━━━━━━━━━━━━━━━━━━━━━━━━━━━━━━━━━━━━━━\u001b[0m \u001b[32m7.8/7.8 MB\u001b[0m \u001b[31m126.9 MB/s\u001b[0m eta \u001b[36m0:00:00\u001b[0m\n",
      "\u001b[?25hDownloading wadler_lindig-0.1.6-py3-none-any.whl (20 kB)\n",
      "Downloading filelock-3.18.0-py3-none-any.whl (16 kB)\n",
      "Downloading multiprocess-0.70.15-py310-none-any.whl (134 kB)\n",
      "Downloading pandas-2.2.3-cp310-cp310-manylinux_2_17_x86_64.manylinux2014_x86_64.whl (13.1 MB)\n",
      "\u001b[2K   \u001b[90m━━━━━━━━━━━━━━━━━━━━━━━━━━━━━━━━━━━━━━━━\u001b[0m \u001b[32m13.1/13.1 MB\u001b[0m \u001b[31m122.4 MB/s\u001b[0m eta \u001b[36m0:00:00\u001b[0m\n",
      "\u001b[?25hDownloading setproctitle-1.3.6-cp310-cp310-manylinux_2_5_x86_64.manylinux1_x86_64.manylinux_2_17_x86_64.manylinux2014_x86_64.whl (30 kB)\n",
      "Downloading sympy-1.14.0-py3-none-any.whl (6.3 MB)\n",
      "\u001b[2K   \u001b[90m━━━━━━━━━━━━━━━━━━━━━━━━━━━━━━━━━━━━━━━━\u001b[0m \u001b[32m6.3/6.3 MB\u001b[0m \u001b[31m123.7 MB/s\u001b[0m eta \u001b[36m0:00:00\u001b[0m\n",
      "\u001b[?25hDownloading xxhash-3.5.0-cp310-cp310-manylinux_2_17_x86_64.manylinux2014_x86_64.whl (194 kB)\n",
      "Downloading gitdb-4.0.12-py3-none-any.whl (62 kB)\n",
      "Downloading hf_xet-1.1.3-cp37-abi3-manylinux_2_17_x86_64.manylinux2014_x86_64.whl (4.8 MB)\n",
      "\u001b[2K   \u001b[90m━━━━━━━━━━━━━━━━━━━━━━━━━━━━━━━━━━━━━━━━\u001b[0m \u001b[32m4.8/4.8 MB\u001b[0m \u001b[31m130.5 MB/s\u001b[0m eta \u001b[36m0:00:00\u001b[0m\n",
      "\u001b[?25hDownloading mdurl-0.1.2-py3-none-any.whl (10.0 kB)\n",
      "Downloading pytz-2025.2-py2.py3-none-any.whl (509 kB)\n",
      "Downloading tzdata-2025.2-py2.py3-none-any.whl (347 kB)\n",
      "Downloading smmap-5.0.2-py3-none-any.whl (24 kB)\n",
      "Building wheels for collected packages: antlr4-python3-runtime\n",
      "  Building wheel for antlr4-python3-runtime (setup.py) ... \u001b[?25ldone\n",
      "\u001b[?25h  Created wheel for antlr4-python3-runtime: filename=antlr4_python3_runtime-4.8-py3-none-any.whl size=141211 sha256=d89d9f2855ba15caa16945b456a1d7f03bc1a82ee709190b0f7d242577f785e2\n",
      "  Stored in directory: /tmp/pip-ephem-wheel-cache-qspee82r/wheels/a7/20/bd/e1477d664f22d99989fd28ee1a43d6633dddb5cb9e801350d5\n",
      "Successfully built antlr4-python3-runtime\n",
      "Installing collected packages: tokenizers, pytz, mpmath, easydict, antlr4-python3-runtime, xxhash, wadler-lindig, tzdata, tqdm, sympy, smmap, setproctitle, sentry-sdk, safetensors, regex, pyarrow, Pillow, omegaconf, nvidia-nvtx-cu11, nvidia-nccl-cu11, nvidia-cusparse-cu11, nvidia-curand-cu11, nvidia-cufft-cu11, nvidia-cuda-runtime-cu11, nvidia-cuda-nvrtc-cu11, nvidia-cuda-cupti-cu11, nvidia-cublas-cu11, numpy, networkx, mdurl, lightning-utilities, lazy-loader, imageio-ffmpeg, hf-xet, fsspec, filelock, einops, docker-pycreds, dill, click, triton, tifffile, scipy, pandas, opencv-python-headless, opencv-python, nvidia-cusolver-cu11, nvidia-cudnn-cu11, multiprocess, markdown-it-py, jaxtyping, imageio, huggingface-hub, gitdb, transformers, torch, scikit-image, rich, ipdb, gitpython, xformers, wandb, torchvision, torchmetrics, lpips, datasets\n",
      "Successfully installed Pillow-10.0.1 antlr4-python3-runtime-4.8 click-8.2.1 datasets-2.14.5 dill-0.3.7 docker-pycreds-0.4.0 easydict-1.13 einops-0.8.1 filelock-3.18.0 fsspec-2023.6.0 gitdb-4.0.12 gitpython-3.1.44 hf-xet-1.1.3 huggingface-hub-0.32.4 imageio-2.33.0 imageio-ffmpeg-0.5.0 ipdb-0.13.13 jaxtyping-0.3.1 lazy-loader-0.4 lightning-utilities-0.14.3 lpips-0.1.4 markdown-it-py-3.0.0 mdurl-0.1.2 mpmath-1.3.0 multiprocess-0.70.15 networkx-3.4.2 numpy-1.26.4 nvidia-cublas-cu11-11.11.3.6 nvidia-cuda-cupti-cu11-11.8.87 nvidia-cuda-nvrtc-cu11-11.8.89 nvidia-cuda-runtime-cu11-11.8.89 nvidia-cudnn-cu11-9.1.0.70 nvidia-cufft-cu11-10.9.0.58 nvidia-curand-cu11-10.3.0.86 nvidia-cusolver-cu11-11.4.1.48 nvidia-cusparse-cu11-11.7.5.86 nvidia-nccl-cu11-2.20.5 nvidia-nvtx-cu11-11.8.86 omegaconf-2.1.1 opencv-python-4.7.0.72 opencv-python-headless-4.7.0.72 pandas-2.2.3 pyarrow-20.0.0 pytz-2025.2 regex-2024.11.6 rich-14.0.0 safetensors-0.5.3 scikit-image-0.23.2 scipy-1.15.3 sentry-sdk-2.29.1 setproctitle-1.3.6 smmap-5.0.2 sympy-1.14.0 tifffile-2025.5.10 tokenizers-0.13.3 torch-2.4.1+cu118 torchmetrics-1.7.2 torchvision-0.19.1+cu118 tqdm-4.67.1 transformers-4.30.2 triton-3.0.0 tzdata-2025.2 wadler-lindig-0.1.6 wandb-0.18.7 xformers-0.0.28 xxhash-3.5.0\n",
      "\n",
      "\u001b[1m[\u001b[0m\u001b[34;49mnotice\u001b[0m\u001b[1;39;49m]\u001b[0m\u001b[39;49m A new release of pip is available: \u001b[0m\u001b[31;49m24.3.1\u001b[0m\u001b[39;49m -> \u001b[0m\u001b[32;49m25.1.1\u001b[0m\n",
      "\u001b[1m[\u001b[0m\u001b[34;49mnotice\u001b[0m\u001b[1;39;49m]\u001b[0m\u001b[39;49m To update, run: \u001b[0m\u001b[32;49mpip install --upgrade pip\u001b[0m\n",
      "Note: you may need to restart the kernel to use updated packages.\n"
     ]
    }
   ],
   "source": [
    "%pip install -r requirements.txt"
   ]
  },
  {
   "cell_type": "code",
   "execution_count": 1,
   "metadata": {},
   "outputs": [
    {
     "name": "stdout",
     "output_type": "stream",
     "text": [
      "4.7.0\n"
     ]
    }
   ],
   "source": [
    "import cv2\n",
    "print(cv2.__version__)"
   ]
  },
  {
   "cell_type": "markdown",
   "metadata": {
    "id": "_4fB3gvajkH6"
   },
   "source": [
    "## Execute after reload!"
   ]
  },
  {
   "cell_type": "code",
   "execution_count": 3,
   "metadata": {
    "colab": {
     "base_uri": "https://localhost:8080/"
    },
    "executionInfo": {
     "elapsed": 138,
     "status": "ok",
     "timestamp": 1749050960389,
     "user": {
      "displayName": "Joaquin Francisco Jordan",
      "userId": "02531572375631166842"
     },
     "user_tz": 300
    },
    "id": "jBNbpk6ASOkj",
    "outputId": "7b741c45-e2d6-4419-a9c4-c9949feca8ce"
   },
   "outputs": [
    {
     "name": "stdout",
     "output_type": "stream",
     "text": [
      "/__modal/volumes/vo-7oTzjGNuQtCVNAJIBvckAg/LVSM\n",
      "LICENSE.md  \u001b[0m\u001b[01;34mdata\u001b[0m/             \u001b[01;34mmodel\u001b[0m/              \u001b[01;34mre10k_subset\u001b[0m/     setup.py\n",
      "README.md   generate_html.py  process_data.py     re10k_subset.zip  train.py\n",
      "\u001b[01;34mconfigs\u001b[0m/    inference.py      pyrightconfig.json  requirements.txt  \u001b[01;34mutils\u001b[0m/\n"
     ]
    },
    {
     "name": "stderr",
     "output_type": "stream",
     "text": [
      "/usr/local/lib/python3.10/site-packages/IPython/core/magics/osm.py:417: UserWarning: This is now an optional IPython functionality, setting dhist requires you to install the `pickleshare` library.\n",
      "  self.shell.db['dhist'] = compress_dhist(dhist)[-100:]\n"
     ]
    }
   ],
   "source": [
    "%cd /root/jupyter/LVSM\n",
    "%ls"
   ]
  },
  {
   "cell_type": "markdown",
   "metadata": {
    "id": "KYO2FeGtVXn9"
   },
   "source": [
    "## Download R10K subset"
   ]
  },
  {
   "cell_type": "code",
   "execution_count": 5,
   "metadata": {
    "colab": {
     "base_uri": "https://localhost:8080/"
    },
    "executionInfo": {
     "elapsed": 6949,
     "status": "ok",
     "timestamp": 1749050970058,
     "user": {
      "displayName": "Joaquin Francisco Jordan",
      "userId": "02531572375631166842"
     },
     "user_tz": 300
    },
    "id": "AvWubaxDfE6b",
    "outputId": "d39df9c7-6197-4c76-a387-d095af20822a"
   },
   "outputs": [
    {
     "name": "stdout",
     "output_type": "stream",
     "text": [
      "Collecting gdown\n",
      "  Downloading gdown-5.2.0-py3-none-any.whl.metadata (5.8 kB)\n",
      "Requirement already satisfied: beautifulsoup4 in /usr/local/lib/python3.10/site-packages (from gdown) (4.13.4)\n",
      "Requirement already satisfied: filelock in /usr/local/lib/python3.10/site-packages (from gdown) (3.18.0)\n",
      "Requirement already satisfied: requests[socks] in /usr/local/lib/python3.10/site-packages (from gdown) (2.32.3)\n",
      "Requirement already satisfied: tqdm in /usr/local/lib/python3.10/site-packages (from gdown) (4.67.1)\n",
      "Requirement already satisfied: soupsieve>1.2 in /usr/local/lib/python3.10/site-packages (from beautifulsoup4->gdown) (2.7)\n",
      "Requirement already satisfied: typing-extensions>=4.0.0 in /usr/local/lib/python3.10/site-packages (from beautifulsoup4->gdown) (4.12.2)\n",
      "Requirement already satisfied: charset-normalizer<4,>=2 in /usr/local/lib/python3.10/site-packages (from requests[socks]->gdown) (3.4.2)\n",
      "Requirement already satisfied: idna<4,>=2.5 in /usr/local/lib/python3.10/site-packages (from requests[socks]->gdown) (3.10)\n",
      "Requirement already satisfied: urllib3<3,>=1.21.1 in /usr/local/lib/python3.10/site-packages (from requests[socks]->gdown) (2.4.0)\n",
      "Requirement already satisfied: certifi>=2017.4.17 in /usr/local/lib/python3.10/site-packages (from requests[socks]->gdown) (2024.8.30)\n",
      "Collecting PySocks!=1.5.7,>=1.5.6 (from requests[socks]->gdown)\n",
      "  Downloading PySocks-1.7.1-py3-none-any.whl.metadata (13 kB)\n",
      "Downloading gdown-5.2.0-py3-none-any.whl (18 kB)\n",
      "Downloading PySocks-1.7.1-py3-none-any.whl (16 kB)\n",
      "Installing collected packages: PySocks, gdown\n",
      "Successfully installed PySocks-1.7.1 gdown-5.2.0\n",
      "\n",
      "\u001b[1m[\u001b[0m\u001b[34;49mnotice\u001b[0m\u001b[1;39;49m]\u001b[0m\u001b[39;49m A new release of pip is available: \u001b[0m\u001b[31;49m24.3.1\u001b[0m\u001b[39;49m -> \u001b[0m\u001b[32;49m25.1.1\u001b[0m\n",
      "\u001b[1m[\u001b[0m\u001b[34;49mnotice\u001b[0m\u001b[1;39;49m]\u001b[0m\u001b[39;49m To update, run: \u001b[0m\u001b[32;49mpip install --upgrade pip\u001b[0m\n",
      "Note: you may need to restart the kernel to use updated packages.\n"
     ]
    }
   ],
   "source": [
    "%pip install gdown"
   ]
  },
  {
   "cell_type": "code",
   "execution_count": 6,
   "metadata": {
    "colab": {
     "base_uri": "https://localhost:8080/"
    },
    "executionInfo": {
     "elapsed": 19311,
     "status": "ok",
     "timestamp": 1749050989372,
     "user": {
      "displayName": "Joaquin Francisco Jordan",
      "userId": "02531572375631166842"
     },
     "user_tz": 300
    },
    "id": "Q4EMmipHfFxo",
    "outputId": "cb49814c-a055-4885-d9c1-e7bde8d228f0"
   },
   "outputs": [
    {
     "name": "stdout",
     "output_type": "stream",
     "text": [
      "Downloading...\n",
      "From (original): https://drive.google.com/uc?id=1E1ui59ffUxXiDauDlrSCRKvB6qyQec7D\n",
      "From (redirected): https://drive.google.com/uc?id=1E1ui59ffUxXiDauDlrSCRKvB6qyQec7D&confirm=t&uuid=30093016-db55-449d-b47d-da61946ba539\n",
      "To: /__modal/volumes/vo-7oTzjGNuQtCVNAJIBvckAg/LVSM/re10k_subset.zip\n",
      "100%|████████████████████████████████████████| 622M/622M [00:09<00:00, 68.7MB/s]\n",
      "LICENSE.md  \u001b[0m\u001b[01;34mdata\u001b[0m/             \u001b[01;34mmodel\u001b[0m/              re10k_subset.zip  train.py\n",
      "README.md   generate_html.py  process_data.py     requirements.txt  \u001b[01;34mutils\u001b[0m/\n",
      "\u001b[01;34mconfigs\u001b[0m/    inference.py      pyrightconfig.json  setup.py\n"
     ]
    }
   ],
   "source": [
    "!gdown 1E1ui59ffUxXiDauDlrSCRKvB6qyQec7D\n",
    "%ls"
   ]
  },
  {
   "cell_type": "code",
   "execution_count": 7,
   "metadata": {
    "colab": {
     "base_uri": "https://localhost:8080/"
    },
    "executionInfo": {
     "elapsed": 7547,
     "status": "ok",
     "timestamp": 1749050996922,
     "user": {
      "displayName": "Joaquin Francisco Jordan",
      "userId": "02531572375631166842"
     },
     "user_tz": 300
    },
    "id": "cLsTP0AffLfb",
    "outputId": "fcd735d9-6540-4646-cad2-cd86c9237ee8"
   },
   "outputs": [
    {
     "name": "stdout",
     "output_type": "stream",
     "text": [
      "Archive:  re10k_subset.zip\n",
      "   creating: re10k_subset/\n",
      "   creating: re10k_subset/train/\n",
      "  inflating: re10k_subset/train/000002.torch  \n",
      "  inflating: re10k_subset/train/000000.torch  \n",
      "  inflating: re10k_subset/train/index.json  \n",
      "  inflating: re10k_subset/train/000001.torch  \n",
      "   creating: re10k_subset/test/\n",
      "  inflating: re10k_subset/test/000001.torch  \n",
      "  inflating: re10k_subset/test/index.json  \n",
      "  inflating: re10k_subset/test/000000.torch  \n",
      "  inflating: re10k_subset/test/000002.torch  \n",
      "re10k_subset:\n",
      "\u001b[0m\u001b[01;34mtest\u001b[0m/  \u001b[01;34mtrain\u001b[0m/\n",
      "\n",
      "re10k_subset/test:\n",
      "000000.torch  000001.torch  000002.torch  index.json\n",
      "\n",
      "re10k_subset/train:\n",
      "000000.torch  000001.torch  000002.torch  index.json\n"
     ]
    }
   ],
   "source": [
    "!unzip re10k_subset.zip\n",
    "%ls -R re10k_subset"
   ]
  },
  {
   "cell_type": "code",
   "execution_count": 5,
   "metadata": {
    "colab": {
     "base_uri": "https://localhost:8080/"
    },
    "executionInfo": {
     "elapsed": 101,
     "status": "ok",
     "timestamp": 1749050997028,
     "user": {
      "displayName": "Joaquin Francisco Jordan",
      "userId": "02531572375631166842"
     },
     "user_tz": 300
    },
    "id": "aBUafNfdW9uA",
    "outputId": "e1e65c3f-2a65-4e56-ef58-4d3c813c6ca0"
   },
   "outputs": [
    {
     "name": "stdout",
     "output_type": "stream",
     "text": [
      "LICENSE.md  \u001b[0m\u001b[01;34mdata\u001b[0m/             \u001b[01;34mmodel\u001b[0m/              \u001b[01;34mre10k_subset\u001b[0m/     setup.py\n",
      "README.md   generate_html.py  process_data.py     re10k_subset.zip  train.py\n",
      "\u001b[01;34mconfigs\u001b[0m/    inference.py      pyrightconfig.json  requirements.txt  \u001b[01;34mutils\u001b[0m/\n"
     ]
    }
   ],
   "source": [
    "%ls"
   ]
  },
  {
   "cell_type": "markdown",
   "metadata": {
    "id": "1hgxAY_cV7gI"
   },
   "source": [
    "## LVSM data preprocessing (run once)"
   ]
  },
  {
   "cell_type": "code",
   "execution_count": 6,
   "metadata": {
    "colab": {
     "base_uri": "https://localhost:8080/"
    },
    "executionInfo": {
     "elapsed": 95295,
     "status": "ok",
     "timestamp": 1749051092341,
     "user": {
      "displayName": "Joaquin Francisco Jordan",
      "userId": "02531572375631166842"
     },
     "user_tz": 300
    },
    "id": "m9Pl4tm9XCH8",
    "outputId": "bcc5ff8e-8814-40a6-aa76-c27b6387a474"
   },
   "outputs": [
    {
     "name": "stdout",
     "output_type": "stream",
     "text": [
      "2025-06-05 02:04:16,680 - INFO - Starting test data processing...\n",
      "2025-06-05 02:04:16,680 - INFO - Found 3 files to process in re10k_subset/test\n",
      "Processing files with 32 processes:   0%|                 | 0/3 [00:00<?, ?it/s]/__modal/volumes/vo-7oTzjGNuQtCVNAJIBvckAg/LVSM/process_data.py:47: FutureWarning: You are using `torch.load` with `weights_only=False` (the current default value), which uses the default pickle module implicitly. It is possible to construct malicious pickle data which will execute arbitrary code during unpickling (See https://github.com/pytorch/pytorch/blob/main/SECURITY.md#untrusted-models for more details). In a future release, the default value for `weights_only` will be flipped to `True`. This limits the functions that could be executed during unpickling. Arbitrary objects will no longer be allowed to be loaded via this mode unless they are explicitly allowlisted by the user via `torch.serialization.add_safe_globals`. We recommend you start setting `weights_only=True` for any use case where you don't have full control of the loaded file. Please open an issue on GitHub for any issues related to this experimental feature.\n",
      "  data = torch.load(file_path)\n",
      "Processing files with 32 processes: 100%|█████████| 3/3 [02:00<00:00, 40.24s/it]\n",
      "2025-06-05 02:06:18,325 - INFO - Processing completed in 121.64 seconds\n",
      "2025-06-05 02:06:18,325 - INFO - Successfully processed 3/3 files\n",
      "2025-06-05 02:06:18,326 - INFO - Processing completed!\n",
      "2025-06-05 02:06:18,328 - INFO - Full list generated!\n"
     ]
    }
   ],
   "source": [
    "!python process_data.py --base_path re10k_subset/ --output_dir preprocessed_data/ --mode 'test'"
   ]
  },
  {
   "cell_type": "code",
   "execution_count": 7,
   "metadata": {},
   "outputs": [
    {
     "name": "stdout",
     "output_type": "stream",
     "text": [
      "full_list.txt  \u001b[0m\u001b[01;34mimages\u001b[0m/  \u001b[01;34mmetadata\u001b[0m/\n"
     ]
    }
   ],
   "source": [
    "%ls preprocessed_data/test"
   ]
  },
  {
   "cell_type": "code",
   "execution_count": 8,
   "metadata": {
    "colab": {
     "base_uri": "https://localhost:8080/"
    },
    "executionInfo": {
     "elapsed": 122,
     "status": "ok",
     "timestamp": 1749051092533,
     "user": {
      "displayName": "Joaquin Francisco Jordan",
      "userId": "02531572375631166842"
     },
     "user_tz": 300
    },
    "id": "U4KEfxqvXogn",
    "outputId": "26df106a-d297-437e-e5b8-57d187035326"
   },
   "outputs": [
    {
     "name": "stdout",
     "output_type": "stream",
     "text": [
      "/__modal/volumes/vo-7oTzjGNuQtCVNAJIBvckAg/LVSM/preprocessed_data/test/metadata/0c4c5d5f751aabf5.json\n",
      "/__modal/volumes/vo-7oTzjGNuQtCVNAJIBvckAg/LVSM/preprocessed_data/test/metadata/0d4de33c6888a754.json\n",
      "/__modal/volumes/vo-7oTzjGNuQtCVNAJIBvckAg/LVSM/preprocessed_data/test/metadata/1214f2a11a9fc1ed.json\n",
      "/__modal/volumes/vo-7oTzjGNuQtCVNAJIBvckAg/LVSM/preprocessed_data/test/metadata/17d9303ee77c3a3d.json\n",
      "/__modal/volumes/vo-7oTzjGNuQtCVNAJIBvckAg/LVSM/preprocessed_data/test/metadata/20d86cff490c0c42.json\n",
      "/__modal/volumes/vo-7oTzjGNuQtCVNAJIBvckAg/LVSM/preprocessed_data/test/metadata/21e794f71e31becb.json\n",
      "/__modal/volumes/vo-7oTzjGNuQtCVNAJIBvckAg/LVSM/preprocessed_data/test/metadata/28e8300e004ab30b.json\n",
      "/__modal/volumes/vo-7oTzjGNuQtCVNAJIBvckAg/LVSM/preprocessed_data/test/metadata/29e0bfbad00f0d5e.json\n",
      "/__modal/volumes/vo-7oTzjGNuQtCVNAJIBvckAg/LVSM/preprocessed_data/test/metadata/2e109379f53bb221.json\n",
      "/__modal/volumes/vo-7oTzjGNuQtCVNAJIBvckAg/LVSM/preprocessed_data/test/metadata/322261824c4a3003.json\n",
      "/__modal/volumes/vo-7oTzjGNuQtCVNAJIBvckAg/LVSM/preprocessed_data/test/metadata/34b0658a5c200cdf.json\n",
      "/__modal/volumes/vo-7oTzjGNuQtCVNAJIBvckAg/LVSM/preprocessed_data/test/metadata/3825ed66b7ea932e.json\n",
      "/__modal/volumes/vo-7oTzjGNuQtCVNAJIBvckAg/LVSM/preprocessed_data/test/metadata/41bcd011f99bfb66.json\n",
      "/__modal/volumes/vo-7oTzjGNuQtCVNAJIBvckAg/LVSM/preprocessed_data/test/metadata/57d25dafabb5a238.json\n",
      "/__modal/volumes/vo-7oTzjGNuQtCVNAJIBvckAg/LVSM/preprocessed_data/test/metadata/57d3409bf04c4651.json\n",
      "/__modal/volumes/vo-7oTzjGNuQtCVNAJIBvckAg/LVSM/preprocessed_data/test/metadata/5aca87f95a9412c6.json\n",
      "/__modal/volumes/vo-7oTzjGNuQtCVNAJIBvckAg/LVSM/preprocessed_data/test/metadata/6558c5f10d45a929.json\n",
      "/__modal/volumes/vo-7oTzjGNuQtCVNAJIBvckAg/LVSM/preprocessed_data/test/metadata/656381bea665bf3d.json\n",
      "/__modal/volumes/vo-7oTzjGNuQtCVNAJIBvckAg/LVSM/preprocessed_data/test/metadata/6771a51bf0cfce7f.json\n",
      "/__modal/volumes/vo-7oTzjGNuQtCVNAJIBvckAg/LVSM/preprocessed_data/test/metadata/67a69088a2695987.json\n",
      "/__modal/volumes/vo-7oTzjGNuQtCVNAJIBvckAg/LVSM/preprocessed_data/test/metadata/6a2b117dc27d1aab.json\n",
      "/__modal/volumes/vo-7oTzjGNuQtCVNAJIBvckAg/LVSM/preprocessed_data/test/metadata/84ab392d682f296b.json\n",
      "/__modal/volumes/vo-7oTzjGNuQtCVNAJIBvckAg/LVSM/preprocessed_data/test/metadata/89ea49cd9865aeff.json\n",
      "/__modal/volumes/vo-7oTzjGNuQtCVNAJIBvckAg/LVSM/preprocessed_data/test/metadata/8adebbb68f2c3f84.json\n",
      "/__modal/volumes/vo-7oTzjGNuQtCVNAJIBvckAg/LVSM/preprocessed_data/test/metadata/9e2a8cc5f32dd46b.json\n",
      "/__modal/volumes/vo-7oTzjGNuQtCVNAJIBvckAg/LVSM/preprocessed_data/test/metadata/a47b88040452d7d9.json\n",
      "/__modal/volumes/vo-7oTzjGNuQtCVNAJIBvckAg/LVSM/preprocessed_data/test/metadata/a56ba2efb5e3fdd9.json\n",
      "/__modal/volumes/vo-7oTzjGNuQtCVNAJIBvckAg/LVSM/preprocessed_data/test/metadata/a6fa92e8204f6118.json\n",
      "/__modal/volumes/vo-7oTzjGNuQtCVNAJIBvckAg/LVSM/preprocessed_data/test/metadata/a9b3ff60b213e099.json\n",
      "/__modal/volumes/vo-7oTzjGNuQtCVNAJIBvckAg/LVSM/preprocessed_data/test/metadata/aadc1e2dc74fd644.json\n",
      "/__modal/volumes/vo-7oTzjGNuQtCVNAJIBvckAg/LVSM/preprocessed_data/test/metadata/b4099665590548fc.json\n",
      "/__modal/volumes/vo-7oTzjGNuQtCVNAJIBvckAg/LVSM/preprocessed_data/test/metadata/bc95e5c7e357f1b7.json\n",
      "/__modal/volumes/vo-7oTzjGNuQtCVNAJIBvckAg/LVSM/preprocessed_data/test/metadata/bd340fcfa193f007.json\n",
      "/__modal/volumes/vo-7oTzjGNuQtCVNAJIBvckAg/LVSM/preprocessed_data/test/metadata/c48f19e2ffa52523.json\n",
      "/__modal/volumes/vo-7oTzjGNuQtCVNAJIBvckAg/LVSM/preprocessed_data/test/metadata/cd74b1244d112628.json\n",
      "/__modal/volumes/vo-7oTzjGNuQtCVNAJIBvckAg/LVSM/preprocessed_data/test/metadata/e4f4574df7938f37.json\n",
      "/__modal/volumes/vo-7oTzjGNuQtCVNAJIBvckAg/LVSM/preprocessed_data/test/metadata/ed477bdf8582adff.json\n",
      "/__modal/volumes/vo-7oTzjGNuQtCVNAJIBvckAg/LVSM/preprocessed_data/test/metadata/f7c0fa5b81552d35.json\n",
      "/__modal/volumes/vo-7oTzjGNuQtCVNAJIBvckAg/LVSM/preprocessed_data/test/metadata/f7d916b43193c181.json\n",
      "/__modal/volumes/vo-7oTzjGNuQtCVNAJIBvckAg/LVSM/preprocessed_data/test/metadata/fea544b472e9abd1.json\n",
      "/__modal/volumes/vo-7oTzjGNuQtCVNAJIBvckAg/LVSM/preprocessed_data/test/metadata/ffa95c3b40609c76.json\n"
     ]
    }
   ],
   "source": [
    "%cat preprocessed_data/test/full_list.txt"
   ]
  },
  {
   "cell_type": "markdown",
   "metadata": {},
   "source": [
    "## LVSM model checkpoints (run once)"
   ]
  },
  {
   "cell_type": "code",
   "execution_count": 23,
   "metadata": {},
   "outputs": [
    {
     "name": "stdout",
     "output_type": "stream",
     "text": [
      "\u001b[0m\u001b[01;34mLVSM\u001b[0m/\n"
     ]
    }
   ],
   "source": [
    "%ls ../"
   ]
  },
  {
   "cell_type": "code",
   "execution_count": 26,
   "metadata": {},
   "outputs": [],
   "source": [
    "%rm -rf ../lvsm-checkpoints"
   ]
  },
  {
   "cell_type": "code",
   "execution_count": 28,
   "metadata": {},
   "outputs": [
    {
     "name": "stdout",
     "output_type": "stream",
     "text": [
      "Reading package lists... Done\n",
      "Building dependency tree... Done\n",
      "Reading state information... Done\n",
      "The following NEW packages will be installed:\n",
      "  git-lfs\n",
      "0 upgraded, 1 newly installed, 0 to remove and 59 not upgraded.\n",
      "Need to get 3489 kB of archives.\n",
      "After this operation, 11.2 MB of additional disk space will be used.\n",
      "Get:1 http://deb.debian.org/debian bookworm/main amd64 git-lfs amd64 3.3.0-1+deb12u1 [3489 kB]\n",
      "Fetched 3489 kB in 0s (39.0 MB/s)\n",
      "debconf: delaying package configuration, since apt-utils is not installed\n",
      "Selecting previously unselected package git-lfs.\n",
      "(Reading database ... 17827 files and directories currently installed.)\n",
      "Preparing to unpack .../git-lfs_3.3.0-1+deb12u1_amd64.deb ...\n",
      "Unpacking git-lfs (3.3.0-1+deb12u1) ...\n",
      "Setting up git-lfs (3.3.0-1+deb12u1) ...\n",
      "Updated Git hooks.\n",
      "Git LFS initialized.\n"
     ]
    }
   ],
   "source": [
    "!apt-get install -y git-lfs\n",
    "!git lfs install"
   ]
  },
  {
   "cell_type": "code",
   "execution_count": 29,
   "metadata": {
    "colab": {
     "base_uri": "https://localhost:8080/"
    },
    "executionInfo": {
     "elapsed": 222186,
     "status": "ok",
     "timestamp": 1749051324326,
     "user": {
      "displayName": "Joaquin Francisco Jordan",
      "userId": "02531572375631166842"
     },
     "user_tz": 300
    },
    "id": "s6_eGw4-gqOy",
    "outputId": "afcf092d-b9c9-4caf-abd5-d8c3d30cf104"
   },
   "outputs": [
    {
     "name": "stdout",
     "output_type": "stream",
     "text": [
      "Cloning into '../lvsm-checkpoints'...\n",
      "remote: Enumerating objects: 21, done.\u001b[K\n",
      "remote: Counting objects: 100% (17/17), done.\u001b[K\n",
      "remote: Compressing objects: 100% (15/15), done.\u001b[K\n",
      "remote: Total 21 (delta 4), reused 0 (delta 0), pack-reused 4 (from 1)\u001b[K\n",
      "Unpacking objects: 100% (21/21), 11.69 KiB | 230.00 KiB/s, done.\n",
      "Filtering content: 100% (4/4), 8.04 GiB | 67.14 MiB/s, done.\n"
     ]
    }
   ],
   "source": [
    "!git clone https://huggingface.co/coast01/LVSM ../lvsm-checkpoints"
   ]
  },
  {
   "cell_type": "code",
   "execution_count": 30,
   "metadata": {},
   "outputs": [
    {
     "name": "stdout",
     "output_type": "stream",
     "text": [
      "total 8432833\n",
      "-rw-r--r-- 1 root root      19151 Jun  5 02:33 LICENSE.md\n",
      "-rw-r--r-- 1 root root         32 Jun  5 02:33 README.md\n",
      "-rw-r--r-- 1 root root 2188805286 Jun  5 02:35 lvsm_scene_decoder_only_res512.pt\n",
      "-rw-r--r-- 1 root root 2158235786 Jun  5 02:35 lvsm_scene_encoder_decoder_res512.pt\n",
      "-rw-r--r-- 1 root root 2129922650 Jun  5 02:35 scene_decoder_only_256.pt\n",
      "-rw-r--r-- 1 root root 2158235786 Jun  5 02:35 scene_encoder_decoder_256.pt\n"
     ]
    }
   ],
   "source": [
    "%ls -l ../lvsm-checkpoints"
   ]
  },
  {
   "cell_type": "code",
   "execution_count": 10,
   "metadata": {
    "executionInfo": {
     "elapsed": 106,
     "status": "ok",
     "timestamp": 1749051388314,
     "user": {
      "displayName": "Joaquin Francisco Jordan",
      "userId": "02531572375631166842"
     },
     "user_tz": 300
    },
    "id": "6KdcUs_Wkgn3"
   },
   "outputs": [],
   "source": [
    "%mkdir -p experiments/checkpoints/LVSM_scene_decoder_only"
   ]
  },
  {
   "cell_type": "code",
   "execution_count": null,
   "metadata": {},
   "outputs": [
    {
     "name": "stdout",
     "output_type": "stream",
     "text": [
      "4.7.0\n"
     ]
    }
   ],
   "source": [
    "import cv2\n",
    "print(cv2.__version__)"
   ]
  },
  {
   "cell_type": "code",
   "execution_count": 32,
   "metadata": {
    "executionInfo": {
     "elapsed": 110,
     "status": "ok",
     "timestamp": 1749051389411,
     "user": {
      "displayName": "Joaquin Francisco Jordan",
      "userId": "02531572375631166842"
     },
     "user_tz": 300
    },
    "id": "Idn661pzkig7"
   },
   "outputs": [],
   "source": [
    "%cp ../lvsm-checkpoints/scene_decoder_only_256.pt experiments/checkpoints/LVSM_scene_decoder_only/scene_decoder_only_256.pt"
   ]
  },
  {
   "cell_type": "code",
   "execution_count": 33,
   "metadata": {},
   "outputs": [
    {
     "name": "stdout",
     "output_type": "stream",
     "text": [
      "total 2080003\n",
      "-rw-r--r-- 1 root root 2129922650 Jun  5 02:43 scene_decoder_only_256.pt\n"
     ]
    }
   ],
   "source": [
    "%ls -l experiments/checkpoints/LVSM_scene_decoder_only"
   ]
  },
  {
   "cell_type": "markdown",
   "metadata": {},
   "source": [
    "## LVSM inference R10K"
   ]
  },
  {
   "cell_type": "code",
   "execution_count": 16,
   "metadata": {},
   "outputs": [
    {
     "name": "stdout",
     "output_type": "stream",
     "text": [
      "scene_decoder_only_256.pt\n"
     ]
    }
   ],
   "source": [
    "%ls ./experiments/checkpoints/LVSM_scene_decoder_only"
   ]
  },
  {
   "cell_type": "code",
   "execution_count": 36,
   "metadata": {
    "colab": {
     "base_uri": "https://localhost:8080/"
    },
    "executionInfo": {
     "elapsed": 26313,
     "status": "ok",
     "timestamp": 1749052142380,
     "user": {
      "displayName": "Joaquin Francisco Jordan",
      "userId": "02531572375631166842"
     },
     "user_tz": 300
    },
    "id": "AF2KID2mV87J",
    "outputId": "73ea5875-6cee-4ed8-d9b5-416595d7eb5d"
   },
   "outputs": [
    {
     "name": "stdout",
     "output_type": "stream",
     "text": [
      "Running inference; save results to: ./experiments/evaluation/test\n",
      "Setting up [LPIPS] perceptual loss: trunk [vgg], v[0.1], spatial [off]\n",
      "Loading model from: /usr/local/lib/python3.10/site-packages/lpips/weights/v0.1/vgg.pth\n",
      "Summary written to .\u001b[35m/experiments/evaluation/test/\u001b[0m\u001b[95msummary.csv\u001b[0m\n",
      "Average: \u001b[1;36m29.687312814924454\u001b[0m,\u001b[1;36m0.0946384006076389\u001b[0m,\u001b[1;36m0.914156910445955\u001b[0m\n",
      "HTML visualization created: /__modal/volumes/vo-7oTzjGNuQtCVNAJIBvckAg/LVSM/experiments/evaluation/test/result_visualization.html\n",
      "Index page created: /__modal/volumes/vo-7oTzjGNuQtCVNAJIBvckAg/LVSM/experiments/evaluation/test/index.html\n",
      "All paginated HTML files and the index page have been created. You can open the index page in a web browser to view your results.\n"
     ]
    }
   ],
   "source": [
    "!torchrun --nproc_per_node 1 --nnodes 1 \\\n",
    "--rdzv_id 18635 --rdzv_backend c10d --rdzv_endpoint localhost:29506 \\\n",
    "inference.py --config \"configs/LVSM_scene_decoder_only.yaml\" \\\n",
    "training.dataset_path = \"./preprocessed_data/test/full_list.txt\" \\\n",
    "training.batch_size_per_gpu = 4 \\\n",
    "training.target_has_input =  false \\\n",
    "training.num_views = 5 \\\n",
    "training.square_crop = true \\\n",
    "training.num_input_views = 2 \\\n",
    "training.num_target_views = 3 \\\n",
    "inference.if_inference = true \\\n",
    "inference.compute_metrics = true \\\n",
    "inference.render_video = true \\\n",
    "inference_out_dir = ./experiments/evaluation/test"
   ]
  }
 ],
 "metadata": {
  "accelerator": "GPU",
  "colab": {
   "authorship_tag": "ABX9TyPp24tG7ncqVlCs69yebxQ4",
   "collapsed_sections": [
    "wiE7Qr9jjUWf",
    "_4fB3gvajkH6",
    "urvswPfkVVRk",
    "KYO2FeGtVXn9",
    "fNVfD7EXV5ZR"
   ],
   "gpuType": "T4",
   "provenance": []
  },
  "kernelspec": {
   "display_name": "Python 3 (ipykernel)",
   "language": "python",
   "name": "python3"
  },
  "language_info": {
   "codemirror_mode": {
    "name": "ipython",
    "version": 3
   },
   "file_extension": ".py",
   "mimetype": "text/x-python",
   "name": "python",
   "nbconvert_exporter": "python",
   "pygments_lexer": "ipython3",
   "version": "3.10.15"
  }
 },
 "nbformat": 4,
 "nbformat_minor": 0
}
